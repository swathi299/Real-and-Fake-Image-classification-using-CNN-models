{
  "nbformat": 4,
  "nbformat_minor": 0,
  "metadata": {
    "colab": {
      "name": "svm.ipynb",
      "provenance": [],
      "collapsed_sections": []
    },
    "kernelspec": {
      "name": "python3",
      "display_name": "Python 3"
    },
    "language_info": {
      "name": "python"
    }
  },
  "cells": [
    {
      "cell_type": "code",
      "execution_count": 2,
      "metadata": {
        "id": "iFgn9WepEjww"
      },
      "outputs": [],
      "source": [
        "import pandas as pd\n",
        "import os\n",
        "from skimage.transform import resize\n",
        "from skimage.io import imread\n",
        "import numpy as np\n",
        "import matplotlib.pyplot as plt\n",
        "Categories=['fake','real']\n",
        "flat_data_arr=[] #input array\n",
        "target_arr=[] #output array\n",
        "datadir='/content/drive/MyDrive/tn'\n",
        "#path which contains all the categories of images\n",
        "row=100\n",
        "col=100\n",
        "layer=1\n"
      ]
    },
    {
      "cell_type": "code",
      "source": [
        "for i in Categories:\n",
        "    \n",
        "    print(f'loading... category : {i}')\n",
        "    path=os.path.join(datadir,i)\n",
        "    for img in os.listdir(path):\n",
        "        img_array=imread(os.path.join(path,img))\n",
        "        img_resized=resize(img_array,(row,col,layer))\n",
        "##             img_resized=resize(img_array,(150,150,3))\n",
        "        flat_data_arr.append(img_resized.flatten())\n",
        "        target_arr.append(Categories.index(i))\n",
        "    print(f'loaded category:{i} successfully')\n",
        "flat_data=np.array(flat_data_arr)\n",
        "target=np.array(target_arr)\n",
        "df=pd.DataFrame(flat_data) #dataframe\n",
        "df['Target']=target\n",
        "x=df.iloc[:,:-1] #input data \n",
        "y=df.iloc[:,-1] #output data\n"
      ],
      "metadata": {
        "colab": {
          "base_uri": "https://localhost:8080/"
        },
        "id": "iSu8yvPnFXfa",
        "outputId": "59f81290-ee1a-4fda-9ad6-0d69c1a0f1b7"
      },
      "execution_count": 3,
      "outputs": [
        {
          "output_type": "stream",
          "name": "stdout",
          "text": [
            "loading... category : fake\n",
            "loaded category:fake successfully\n",
            "loading... category : real\n",
            "loaded category:real successfully\n"
          ]
        }
      ]
    },
    {
      "cell_type": "code",
      "source": [
        "from sklearn import svm\n",
        "from sklearn.model_selection import GridSearchCV\n",
        "param_grid={'C':[0.1,1,10,100],'gamma':[0.0001,0.001,0.1,1],'kernel':['rbf','poly']}\n",
        "svc=svm.SVC(probability=True)\n",
        "model=GridSearchCV(svc,param_grid)\n",
        "\n"
      ],
      "metadata": {
        "id": "--TIl_rnFxqC"
      },
      "execution_count": 4,
      "outputs": []
    },
    {
      "cell_type": "code",
      "source": [
        "from sklearn.model_selection import train_test_split\n",
        "from sklearn.metrics import accuracy_score\n",
        "from sklearn.metrics import classification_report, confusion_matrix \n",
        "x_train,x_test,y_train,y_test=train_test_split(x,y,test_size=0.20,random_state=77,stratify=y)\n",
        "print('Splitted Successfully')\n",
        "model.fit(x_train,y_train)\n",
        "print('The Model is trained well with the given images')\n",
        "print(model.best_params_) \n",
        "# model.best_params_ contains the best parameters obtained   from GridSearchCV\n"
      ],
      "metadata": {
        "colab": {
          "base_uri": "https://localhost:8080/"
        },
        "id": "Xx1eCCaMF1r0",
        "outputId": "c2192544-38a1-49a4-a19f-0cf2670e1052"
      },
      "execution_count": 5,
      "outputs": [
        {
          "output_type": "stream",
          "name": "stdout",
          "text": [
            "Splitted Successfully\n",
            "The Model is trained well with the given images\n",
            "{'C': 0.1, 'gamma': 0.001, 'kernel': 'poly'}\n"
          ]
        }
      ]
    },
    {
      "cell_type": "code",
      "source": [
        "y_pred=model.predict(x_test)\n",
        "print(\"The predicted Data is :\")\n",
        "print(y_pred)\n",
        "print(\"The actual data is:\")\n",
        "print(np.array(y_test))\n",
        "print(f\"The model is {accuracy_score(y_pred,y_test)*100}% accurate\")\n",
        "print(classification_report(y_test, y_pred)) \n",
        "\n",
        "##img_resize=resize(img,(150,150,3))\n",
        "img_resize=resize(img,(row,col,layer))\n",
        "l=[img_resize.flatten()]\n",
        "probability=model.predict_proba(l)\n",
        "#for ind,val in enumerate(Categories):\n",
        " #   print(f'{val} = {probability[0][ind]*100}%')\n",
        "#print(\"The predicted image is : \"+Categories[model.predict(l)[0]])\n"
      ],
      "metadata": {
        "colab": {
          "base_uri": "https://localhost:8080/"
        },
        "id": "FyDUerJ1GMQr",
        "outputId": "e6ffa101-99d2-4536-d503-1ca25a299ef3"
      },
      "execution_count": 8,
      "outputs": [
        {
          "output_type": "stream",
          "name": "stdout",
          "text": [
            "The predicted Data is :\n",
            "[0 1 1 1 0 1 1 1 0 1 1 0 1 1 1 1 0 0 0 0 1 1 0 0 0 0 1 0 0 1 1 1 0 0 1 1 0\n",
            " 1 0 0 1 0 1]\n",
            "The actual data is:\n",
            "[0 1 1 1 0 1 1 1 0 1 1 0 1 1 1 1 0 0 0 1 1 1 0 0 0 0 1 0 0 1 1 1 1 0 0 1 0\n",
            " 1 1 0 1 0 0]\n",
            "The model is 88.37209302325581% accurate\n",
            "              precision    recall  f1-score   support\n",
            "\n",
            "           0       0.85      0.89      0.87        19\n",
            "           1       0.91      0.88      0.89        24\n",
            "\n",
            "    accuracy                           0.88        43\n",
            "   macro avg       0.88      0.88      0.88        43\n",
            "weighted avg       0.89      0.88      0.88        43\n",
            "\n"
          ]
        }
      ]
    }
  ]
}